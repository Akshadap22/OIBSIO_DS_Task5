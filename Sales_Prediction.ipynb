{
  "cells": [
    {
      "cell_type": "code",
      "execution_count": 59,
      "id": "310fe53e",
      "metadata": {
        "id": "310fe53e"
      },
      "outputs": [],
      "source": [
        "import pandas as pd\n",
        "import numpy as np\n",
        "import warnings\n",
        "warnings.filterwarnings('ignore')"
      ]
    },
    {
      "cell_type": "code",
      "execution_count": 60,
      "id": "f4d612da",
      "metadata": {
        "id": "f4d612da"
      },
      "outputs": [],
      "source": [
        "df = pd.read_csv('Advertising.csv')"
      ]
    },
    {
      "cell_type": "code",
      "execution_count": 61,
      "id": "18249448",
      "metadata": {
        "colab": {
          "base_uri": "https://localhost:8080/",
          "height": 423
        },
        "id": "18249448",
        "outputId": "4d72d4e4-1d76-4f29-c66d-f56271ec16f9"
      },
      "outputs": [
        {
          "output_type": "execute_result",
          "data": {
            "text/plain": [
              "     Unnamed: 0     TV  Radio  Newspaper  Sales\n",
              "0             1  230.1   37.8       69.2   22.1\n",
              "1             2   44.5   39.3       45.1   10.4\n",
              "2             3   17.2   45.9       69.3    9.3\n",
              "3             4  151.5   41.3       58.5   18.5\n",
              "4             5  180.8   10.8       58.4   12.9\n",
              "..          ...    ...    ...        ...    ...\n",
              "195         196   38.2    3.7       13.8    7.6\n",
              "196         197   94.2    4.9        8.1    9.7\n",
              "197         198  177.0    9.3        6.4   12.8\n",
              "198         199  283.6   42.0       66.2   25.5\n",
              "199         200  232.1    8.6        8.7   13.4\n",
              "\n",
              "[200 rows x 5 columns]"
            ],
            "text/html": [
              "\n",
              "  <div id=\"df-70826506-677a-4d97-a328-686b83fb3f45\">\n",
              "    <div class=\"colab-df-container\">\n",
              "      <div>\n",
              "<style scoped>\n",
              "    .dataframe tbody tr th:only-of-type {\n",
              "        vertical-align: middle;\n",
              "    }\n",
              "\n",
              "    .dataframe tbody tr th {\n",
              "        vertical-align: top;\n",
              "    }\n",
              "\n",
              "    .dataframe thead th {\n",
              "        text-align: right;\n",
              "    }\n",
              "</style>\n",
              "<table border=\"1\" class=\"dataframe\">\n",
              "  <thead>\n",
              "    <tr style=\"text-align: right;\">\n",
              "      <th></th>\n",
              "      <th>Unnamed: 0</th>\n",
              "      <th>TV</th>\n",
              "      <th>Radio</th>\n",
              "      <th>Newspaper</th>\n",
              "      <th>Sales</th>\n",
              "    </tr>\n",
              "  </thead>\n",
              "  <tbody>\n",
              "    <tr>\n",
              "      <th>0</th>\n",
              "      <td>1</td>\n",
              "      <td>230.1</td>\n",
              "      <td>37.8</td>\n",
              "      <td>69.2</td>\n",
              "      <td>22.1</td>\n",
              "    </tr>\n",
              "    <tr>\n",
              "      <th>1</th>\n",
              "      <td>2</td>\n",
              "      <td>44.5</td>\n",
              "      <td>39.3</td>\n",
              "      <td>45.1</td>\n",
              "      <td>10.4</td>\n",
              "    </tr>\n",
              "    <tr>\n",
              "      <th>2</th>\n",
              "      <td>3</td>\n",
              "      <td>17.2</td>\n",
              "      <td>45.9</td>\n",
              "      <td>69.3</td>\n",
              "      <td>9.3</td>\n",
              "    </tr>\n",
              "    <tr>\n",
              "      <th>3</th>\n",
              "      <td>4</td>\n",
              "      <td>151.5</td>\n",
              "      <td>41.3</td>\n",
              "      <td>58.5</td>\n",
              "      <td>18.5</td>\n",
              "    </tr>\n",
              "    <tr>\n",
              "      <th>4</th>\n",
              "      <td>5</td>\n",
              "      <td>180.8</td>\n",
              "      <td>10.8</td>\n",
              "      <td>58.4</td>\n",
              "      <td>12.9</td>\n",
              "    </tr>\n",
              "    <tr>\n",
              "      <th>...</th>\n",
              "      <td>...</td>\n",
              "      <td>...</td>\n",
              "      <td>...</td>\n",
              "      <td>...</td>\n",
              "      <td>...</td>\n",
              "    </tr>\n",
              "    <tr>\n",
              "      <th>195</th>\n",
              "      <td>196</td>\n",
              "      <td>38.2</td>\n",
              "      <td>3.7</td>\n",
              "      <td>13.8</td>\n",
              "      <td>7.6</td>\n",
              "    </tr>\n",
              "    <tr>\n",
              "      <th>196</th>\n",
              "      <td>197</td>\n",
              "      <td>94.2</td>\n",
              "      <td>4.9</td>\n",
              "      <td>8.1</td>\n",
              "      <td>9.7</td>\n",
              "    </tr>\n",
              "    <tr>\n",
              "      <th>197</th>\n",
              "      <td>198</td>\n",
              "      <td>177.0</td>\n",
              "      <td>9.3</td>\n",
              "      <td>6.4</td>\n",
              "      <td>12.8</td>\n",
              "    </tr>\n",
              "    <tr>\n",
              "      <th>198</th>\n",
              "      <td>199</td>\n",
              "      <td>283.6</td>\n",
              "      <td>42.0</td>\n",
              "      <td>66.2</td>\n",
              "      <td>25.5</td>\n",
              "    </tr>\n",
              "    <tr>\n",
              "      <th>199</th>\n",
              "      <td>200</td>\n",
              "      <td>232.1</td>\n",
              "      <td>8.6</td>\n",
              "      <td>8.7</td>\n",
              "      <td>13.4</td>\n",
              "    </tr>\n",
              "  </tbody>\n",
              "</table>\n",
              "<p>200 rows × 5 columns</p>\n",
              "</div>\n",
              "      <button class=\"colab-df-convert\" onclick=\"convertToInteractive('df-70826506-677a-4d97-a328-686b83fb3f45')\"\n",
              "              title=\"Convert this dataframe to an interactive table.\"\n",
              "              style=\"display:none;\">\n",
              "        \n",
              "  <svg xmlns=\"http://www.w3.org/2000/svg\" height=\"24px\"viewBox=\"0 0 24 24\"\n",
              "       width=\"24px\">\n",
              "    <path d=\"M0 0h24v24H0V0z\" fill=\"none\"/>\n",
              "    <path d=\"M18.56 5.44l.94 2.06.94-2.06 2.06-.94-2.06-.94-.94-2.06-.94 2.06-2.06.94zm-11 1L8.5 8.5l.94-2.06 2.06-.94-2.06-.94L8.5 2.5l-.94 2.06-2.06.94zm10 10l.94 2.06.94-2.06 2.06-.94-2.06-.94-.94-2.06-.94 2.06-2.06.94z\"/><path d=\"M17.41 7.96l-1.37-1.37c-.4-.4-.92-.59-1.43-.59-.52 0-1.04.2-1.43.59L10.3 9.45l-7.72 7.72c-.78.78-.78 2.05 0 2.83L4 21.41c.39.39.9.59 1.41.59.51 0 1.02-.2 1.41-.59l7.78-7.78 2.81-2.81c.8-.78.8-2.07 0-2.86zM5.41 20L4 18.59l7.72-7.72 1.47 1.35L5.41 20z\"/>\n",
              "  </svg>\n",
              "      </button>\n",
              "      \n",
              "  <style>\n",
              "    .colab-df-container {\n",
              "      display:flex;\n",
              "      flex-wrap:wrap;\n",
              "      gap: 12px;\n",
              "    }\n",
              "\n",
              "    .colab-df-convert {\n",
              "      background-color: #E8F0FE;\n",
              "      border: none;\n",
              "      border-radius: 50%;\n",
              "      cursor: pointer;\n",
              "      display: none;\n",
              "      fill: #1967D2;\n",
              "      height: 32px;\n",
              "      padding: 0 0 0 0;\n",
              "      width: 32px;\n",
              "    }\n",
              "\n",
              "    .colab-df-convert:hover {\n",
              "      background-color: #E2EBFA;\n",
              "      box-shadow: 0px 1px 2px rgba(60, 64, 67, 0.3), 0px 1px 3px 1px rgba(60, 64, 67, 0.15);\n",
              "      fill: #174EA6;\n",
              "    }\n",
              "\n",
              "    [theme=dark] .colab-df-convert {\n",
              "      background-color: #3B4455;\n",
              "      fill: #D2E3FC;\n",
              "    }\n",
              "\n",
              "    [theme=dark] .colab-df-convert:hover {\n",
              "      background-color: #434B5C;\n",
              "      box-shadow: 0px 1px 3px 1px rgba(0, 0, 0, 0.15);\n",
              "      filter: drop-shadow(0px 1px 2px rgba(0, 0, 0, 0.3));\n",
              "      fill: #FFFFFF;\n",
              "    }\n",
              "  </style>\n",
              "\n",
              "      <script>\n",
              "        const buttonEl =\n",
              "          document.querySelector('#df-70826506-677a-4d97-a328-686b83fb3f45 button.colab-df-convert');\n",
              "        buttonEl.style.display =\n",
              "          google.colab.kernel.accessAllowed ? 'block' : 'none';\n",
              "\n",
              "        async function convertToInteractive(key) {\n",
              "          const element = document.querySelector('#df-70826506-677a-4d97-a328-686b83fb3f45');\n",
              "          const dataTable =\n",
              "            await google.colab.kernel.invokeFunction('convertToInteractive',\n",
              "                                                     [key], {});\n",
              "          if (!dataTable) return;\n",
              "\n",
              "          const docLinkHtml = 'Like what you see? Visit the ' +\n",
              "            '<a target=\"_blank\" href=https://colab.research.google.com/notebooks/data_table.ipynb>data table notebook</a>'\n",
              "            + ' to learn more about interactive tables.';\n",
              "          element.innerHTML = '';\n",
              "          dataTable['output_type'] = 'display_data';\n",
              "          await google.colab.output.renderOutput(dataTable, element);\n",
              "          const docLink = document.createElement('div');\n",
              "          docLink.innerHTML = docLinkHtml;\n",
              "          element.appendChild(docLink);\n",
              "        }\n",
              "      </script>\n",
              "    </div>\n",
              "  </div>\n",
              "  "
            ]
          },
          "metadata": {},
          "execution_count": 61
        }
      ],
      "source": [
        "df"
      ]
    },
    {
      "cell_type": "code",
      "execution_count": 62,
      "id": "78c09dc6",
      "metadata": {
        "colab": {
          "base_uri": "https://localhost:8080/",
          "height": 206
        },
        "id": "78c09dc6",
        "outputId": "c593d0ca-b850-4029-cf10-f4fdc7202c71"
      },
      "outputs": [
        {
          "output_type": "execute_result",
          "data": {
            "text/plain": [
              "   Unnamed: 0     TV  Radio  Newspaper  Sales\n",
              "0           1  230.1   37.8       69.2   22.1\n",
              "1           2   44.5   39.3       45.1   10.4\n",
              "2           3   17.2   45.9       69.3    9.3\n",
              "3           4  151.5   41.3       58.5   18.5\n",
              "4           5  180.8   10.8       58.4   12.9"
            ],
            "text/html": [
              "\n",
              "  <div id=\"df-9789a58a-e745-4724-9ec1-818191c71863\">\n",
              "    <div class=\"colab-df-container\">\n",
              "      <div>\n",
              "<style scoped>\n",
              "    .dataframe tbody tr th:only-of-type {\n",
              "        vertical-align: middle;\n",
              "    }\n",
              "\n",
              "    .dataframe tbody tr th {\n",
              "        vertical-align: top;\n",
              "    }\n",
              "\n",
              "    .dataframe thead th {\n",
              "        text-align: right;\n",
              "    }\n",
              "</style>\n",
              "<table border=\"1\" class=\"dataframe\">\n",
              "  <thead>\n",
              "    <tr style=\"text-align: right;\">\n",
              "      <th></th>\n",
              "      <th>Unnamed: 0</th>\n",
              "      <th>TV</th>\n",
              "      <th>Radio</th>\n",
              "      <th>Newspaper</th>\n",
              "      <th>Sales</th>\n",
              "    </tr>\n",
              "  </thead>\n",
              "  <tbody>\n",
              "    <tr>\n",
              "      <th>0</th>\n",
              "      <td>1</td>\n",
              "      <td>230.1</td>\n",
              "      <td>37.8</td>\n",
              "      <td>69.2</td>\n",
              "      <td>22.1</td>\n",
              "    </tr>\n",
              "    <tr>\n",
              "      <th>1</th>\n",
              "      <td>2</td>\n",
              "      <td>44.5</td>\n",
              "      <td>39.3</td>\n",
              "      <td>45.1</td>\n",
              "      <td>10.4</td>\n",
              "    </tr>\n",
              "    <tr>\n",
              "      <th>2</th>\n",
              "      <td>3</td>\n",
              "      <td>17.2</td>\n",
              "      <td>45.9</td>\n",
              "      <td>69.3</td>\n",
              "      <td>9.3</td>\n",
              "    </tr>\n",
              "    <tr>\n",
              "      <th>3</th>\n",
              "      <td>4</td>\n",
              "      <td>151.5</td>\n",
              "      <td>41.3</td>\n",
              "      <td>58.5</td>\n",
              "      <td>18.5</td>\n",
              "    </tr>\n",
              "    <tr>\n",
              "      <th>4</th>\n",
              "      <td>5</td>\n",
              "      <td>180.8</td>\n",
              "      <td>10.8</td>\n",
              "      <td>58.4</td>\n",
              "      <td>12.9</td>\n",
              "    </tr>\n",
              "  </tbody>\n",
              "</table>\n",
              "</div>\n",
              "      <button class=\"colab-df-convert\" onclick=\"convertToInteractive('df-9789a58a-e745-4724-9ec1-818191c71863')\"\n",
              "              title=\"Convert this dataframe to an interactive table.\"\n",
              "              style=\"display:none;\">\n",
              "        \n",
              "  <svg xmlns=\"http://www.w3.org/2000/svg\" height=\"24px\"viewBox=\"0 0 24 24\"\n",
              "       width=\"24px\">\n",
              "    <path d=\"M0 0h24v24H0V0z\" fill=\"none\"/>\n",
              "    <path d=\"M18.56 5.44l.94 2.06.94-2.06 2.06-.94-2.06-.94-.94-2.06-.94 2.06-2.06.94zm-11 1L8.5 8.5l.94-2.06 2.06-.94-2.06-.94L8.5 2.5l-.94 2.06-2.06.94zm10 10l.94 2.06.94-2.06 2.06-.94-2.06-.94-.94-2.06-.94 2.06-2.06.94z\"/><path d=\"M17.41 7.96l-1.37-1.37c-.4-.4-.92-.59-1.43-.59-.52 0-1.04.2-1.43.59L10.3 9.45l-7.72 7.72c-.78.78-.78 2.05 0 2.83L4 21.41c.39.39.9.59 1.41.59.51 0 1.02-.2 1.41-.59l7.78-7.78 2.81-2.81c.8-.78.8-2.07 0-2.86zM5.41 20L4 18.59l7.72-7.72 1.47 1.35L5.41 20z\"/>\n",
              "  </svg>\n",
              "      </button>\n",
              "      \n",
              "  <style>\n",
              "    .colab-df-container {\n",
              "      display:flex;\n",
              "      flex-wrap:wrap;\n",
              "      gap: 12px;\n",
              "    }\n",
              "\n",
              "    .colab-df-convert {\n",
              "      background-color: #E8F0FE;\n",
              "      border: none;\n",
              "      border-radius: 50%;\n",
              "      cursor: pointer;\n",
              "      display: none;\n",
              "      fill: #1967D2;\n",
              "      height: 32px;\n",
              "      padding: 0 0 0 0;\n",
              "      width: 32px;\n",
              "    }\n",
              "\n",
              "    .colab-df-convert:hover {\n",
              "      background-color: #E2EBFA;\n",
              "      box-shadow: 0px 1px 2px rgba(60, 64, 67, 0.3), 0px 1px 3px 1px rgba(60, 64, 67, 0.15);\n",
              "      fill: #174EA6;\n",
              "    }\n",
              "\n",
              "    [theme=dark] .colab-df-convert {\n",
              "      background-color: #3B4455;\n",
              "      fill: #D2E3FC;\n",
              "    }\n",
              "\n",
              "    [theme=dark] .colab-df-convert:hover {\n",
              "      background-color: #434B5C;\n",
              "      box-shadow: 0px 1px 3px 1px rgba(0, 0, 0, 0.15);\n",
              "      filter: drop-shadow(0px 1px 2px rgba(0, 0, 0, 0.3));\n",
              "      fill: #FFFFFF;\n",
              "    }\n",
              "  </style>\n",
              "\n",
              "      <script>\n",
              "        const buttonEl =\n",
              "          document.querySelector('#df-9789a58a-e745-4724-9ec1-818191c71863 button.colab-df-convert');\n",
              "        buttonEl.style.display =\n",
              "          google.colab.kernel.accessAllowed ? 'block' : 'none';\n",
              "\n",
              "        async function convertToInteractive(key) {\n",
              "          const element = document.querySelector('#df-9789a58a-e745-4724-9ec1-818191c71863');\n",
              "          const dataTable =\n",
              "            await google.colab.kernel.invokeFunction('convertToInteractive',\n",
              "                                                     [key], {});\n",
              "          if (!dataTable) return;\n",
              "\n",
              "          const docLinkHtml = 'Like what you see? Visit the ' +\n",
              "            '<a target=\"_blank\" href=https://colab.research.google.com/notebooks/data_table.ipynb>data table notebook</a>'\n",
              "            + ' to learn more about interactive tables.';\n",
              "          element.innerHTML = '';\n",
              "          dataTable['output_type'] = 'display_data';\n",
              "          await google.colab.output.renderOutput(dataTable, element);\n",
              "          const docLink = document.createElement('div');\n",
              "          docLink.innerHTML = docLinkHtml;\n",
              "          element.appendChild(docLink);\n",
              "        }\n",
              "      </script>\n",
              "    </div>\n",
              "  </div>\n",
              "  "
            ]
          },
          "metadata": {},
          "execution_count": 62
        }
      ],
      "source": [
        "df.head()"
      ]
    },
    {
      "cell_type": "code",
      "execution_count": 63,
      "id": "642e8360",
      "metadata": {
        "colab": {
          "base_uri": "https://localhost:8080/"
        },
        "id": "642e8360",
        "outputId": "a5995307-b560-4da5-daac-7fbf1f733351"
      },
      "outputs": [
        {
          "output_type": "execute_result",
          "data": {
            "text/plain": [
              "(200, 5)"
            ]
          },
          "metadata": {},
          "execution_count": 63
        }
      ],
      "source": [
        "df.shape"
      ]
    },
    {
      "cell_type": "code",
      "execution_count": 64,
      "id": "abe15780",
      "metadata": {
        "colab": {
          "base_uri": "https://localhost:8080/"
        },
        "id": "abe15780",
        "outputId": "dc366f5e-f3dd-4300-c37e-fab9038091e7"
      },
      "outputs": [
        {
          "output_type": "execute_result",
          "data": {
            "text/plain": [
              "['Unnamed: 0', 'TV', 'Radio', 'Newspaper', 'Sales']"
            ]
          },
          "metadata": {},
          "execution_count": 64
        }
      ],
      "source": [
        "df.columns.values.tolist()"
      ]
    },
    {
      "cell_type": "code",
      "execution_count": 65,
      "id": "222dcf2f",
      "metadata": {
        "colab": {
          "base_uri": "https://localhost:8080/"
        },
        "id": "222dcf2f",
        "outputId": "c9559b44-c537-460f-c078-07eaf78b58d1"
      },
      "outputs": [
        {
          "output_type": "stream",
          "name": "stdout",
          "text": [
            "<class 'pandas.core.frame.DataFrame'>\n",
            "RangeIndex: 200 entries, 0 to 199\n",
            "Data columns (total 5 columns):\n",
            " #   Column      Non-Null Count  Dtype  \n",
            "---  ------      --------------  -----  \n",
            " 0   Unnamed: 0  200 non-null    int64  \n",
            " 1   TV          200 non-null    float64\n",
            " 2   Radio       200 non-null    float64\n",
            " 3   Newspaper   200 non-null    float64\n",
            " 4   Sales       200 non-null    float64\n",
            "dtypes: float64(4), int64(1)\n",
            "memory usage: 7.9 KB\n"
          ]
        }
      ],
      "source": [
        "df.info()"
      ]
    },
    {
      "cell_type": "code",
      "execution_count": 66,
      "id": "ddc3f54e",
      "metadata": {
        "colab": {
          "base_uri": "https://localhost:8080/",
          "height": 300
        },
        "id": "ddc3f54e",
        "outputId": "14827cc6-3b5d-411f-88fe-e8b00b18ba98"
      },
      "outputs": [
        {
          "output_type": "execute_result",
          "data": {
            "text/plain": [
              "       Unnamed: 0          TV       Radio   Newspaper       Sales\n",
              "count  200.000000  200.000000  200.000000  200.000000  200.000000\n",
              "mean   100.500000  147.042500   23.264000   30.554000   14.022500\n",
              "std     57.879185   85.854236   14.846809   21.778621    5.217457\n",
              "min      1.000000    0.700000    0.000000    0.300000    1.600000\n",
              "25%     50.750000   74.375000    9.975000   12.750000   10.375000\n",
              "50%    100.500000  149.750000   22.900000   25.750000   12.900000\n",
              "75%    150.250000  218.825000   36.525000   45.100000   17.400000\n",
              "max    200.000000  296.400000   49.600000  114.000000   27.000000"
            ],
            "text/html": [
              "\n",
              "  <div id=\"df-ff89dd80-2583-4f95-afcb-9d8f0b9d9ef6\">\n",
              "    <div class=\"colab-df-container\">\n",
              "      <div>\n",
              "<style scoped>\n",
              "    .dataframe tbody tr th:only-of-type {\n",
              "        vertical-align: middle;\n",
              "    }\n",
              "\n",
              "    .dataframe tbody tr th {\n",
              "        vertical-align: top;\n",
              "    }\n",
              "\n",
              "    .dataframe thead th {\n",
              "        text-align: right;\n",
              "    }\n",
              "</style>\n",
              "<table border=\"1\" class=\"dataframe\">\n",
              "  <thead>\n",
              "    <tr style=\"text-align: right;\">\n",
              "      <th></th>\n",
              "      <th>Unnamed: 0</th>\n",
              "      <th>TV</th>\n",
              "      <th>Radio</th>\n",
              "      <th>Newspaper</th>\n",
              "      <th>Sales</th>\n",
              "    </tr>\n",
              "  </thead>\n",
              "  <tbody>\n",
              "    <tr>\n",
              "      <th>count</th>\n",
              "      <td>200.000000</td>\n",
              "      <td>200.000000</td>\n",
              "      <td>200.000000</td>\n",
              "      <td>200.000000</td>\n",
              "      <td>200.000000</td>\n",
              "    </tr>\n",
              "    <tr>\n",
              "      <th>mean</th>\n",
              "      <td>100.500000</td>\n",
              "      <td>147.042500</td>\n",
              "      <td>23.264000</td>\n",
              "      <td>30.554000</td>\n",
              "      <td>14.022500</td>\n",
              "    </tr>\n",
              "    <tr>\n",
              "      <th>std</th>\n",
              "      <td>57.879185</td>\n",
              "      <td>85.854236</td>\n",
              "      <td>14.846809</td>\n",
              "      <td>21.778621</td>\n",
              "      <td>5.217457</td>\n",
              "    </tr>\n",
              "    <tr>\n",
              "      <th>min</th>\n",
              "      <td>1.000000</td>\n",
              "      <td>0.700000</td>\n",
              "      <td>0.000000</td>\n",
              "      <td>0.300000</td>\n",
              "      <td>1.600000</td>\n",
              "    </tr>\n",
              "    <tr>\n",
              "      <th>25%</th>\n",
              "      <td>50.750000</td>\n",
              "      <td>74.375000</td>\n",
              "      <td>9.975000</td>\n",
              "      <td>12.750000</td>\n",
              "      <td>10.375000</td>\n",
              "    </tr>\n",
              "    <tr>\n",
              "      <th>50%</th>\n",
              "      <td>100.500000</td>\n",
              "      <td>149.750000</td>\n",
              "      <td>22.900000</td>\n",
              "      <td>25.750000</td>\n",
              "      <td>12.900000</td>\n",
              "    </tr>\n",
              "    <tr>\n",
              "      <th>75%</th>\n",
              "      <td>150.250000</td>\n",
              "      <td>218.825000</td>\n",
              "      <td>36.525000</td>\n",
              "      <td>45.100000</td>\n",
              "      <td>17.400000</td>\n",
              "    </tr>\n",
              "    <tr>\n",
              "      <th>max</th>\n",
              "      <td>200.000000</td>\n",
              "      <td>296.400000</td>\n",
              "      <td>49.600000</td>\n",
              "      <td>114.000000</td>\n",
              "      <td>27.000000</td>\n",
              "    </tr>\n",
              "  </tbody>\n",
              "</table>\n",
              "</div>\n",
              "      <button class=\"colab-df-convert\" onclick=\"convertToInteractive('df-ff89dd80-2583-4f95-afcb-9d8f0b9d9ef6')\"\n",
              "              title=\"Convert this dataframe to an interactive table.\"\n",
              "              style=\"display:none;\">\n",
              "        \n",
              "  <svg xmlns=\"http://www.w3.org/2000/svg\" height=\"24px\"viewBox=\"0 0 24 24\"\n",
              "       width=\"24px\">\n",
              "    <path d=\"M0 0h24v24H0V0z\" fill=\"none\"/>\n",
              "    <path d=\"M18.56 5.44l.94 2.06.94-2.06 2.06-.94-2.06-.94-.94-2.06-.94 2.06-2.06.94zm-11 1L8.5 8.5l.94-2.06 2.06-.94-2.06-.94L8.5 2.5l-.94 2.06-2.06.94zm10 10l.94 2.06.94-2.06 2.06-.94-2.06-.94-.94-2.06-.94 2.06-2.06.94z\"/><path d=\"M17.41 7.96l-1.37-1.37c-.4-.4-.92-.59-1.43-.59-.52 0-1.04.2-1.43.59L10.3 9.45l-7.72 7.72c-.78.78-.78 2.05 0 2.83L4 21.41c.39.39.9.59 1.41.59.51 0 1.02-.2 1.41-.59l7.78-7.78 2.81-2.81c.8-.78.8-2.07 0-2.86zM5.41 20L4 18.59l7.72-7.72 1.47 1.35L5.41 20z\"/>\n",
              "  </svg>\n",
              "      </button>\n",
              "      \n",
              "  <style>\n",
              "    .colab-df-container {\n",
              "      display:flex;\n",
              "      flex-wrap:wrap;\n",
              "      gap: 12px;\n",
              "    }\n",
              "\n",
              "    .colab-df-convert {\n",
              "      background-color: #E8F0FE;\n",
              "      border: none;\n",
              "      border-radius: 50%;\n",
              "      cursor: pointer;\n",
              "      display: none;\n",
              "      fill: #1967D2;\n",
              "      height: 32px;\n",
              "      padding: 0 0 0 0;\n",
              "      width: 32px;\n",
              "    }\n",
              "\n",
              "    .colab-df-convert:hover {\n",
              "      background-color: #E2EBFA;\n",
              "      box-shadow: 0px 1px 2px rgba(60, 64, 67, 0.3), 0px 1px 3px 1px rgba(60, 64, 67, 0.15);\n",
              "      fill: #174EA6;\n",
              "    }\n",
              "\n",
              "    [theme=dark] .colab-df-convert {\n",
              "      background-color: #3B4455;\n",
              "      fill: #D2E3FC;\n",
              "    }\n",
              "\n",
              "    [theme=dark] .colab-df-convert:hover {\n",
              "      background-color: #434B5C;\n",
              "      box-shadow: 0px 1px 3px 1px rgba(0, 0, 0, 0.15);\n",
              "      filter: drop-shadow(0px 1px 2px rgba(0, 0, 0, 0.3));\n",
              "      fill: #FFFFFF;\n",
              "    }\n",
              "  </style>\n",
              "\n",
              "      <script>\n",
              "        const buttonEl =\n",
              "          document.querySelector('#df-ff89dd80-2583-4f95-afcb-9d8f0b9d9ef6 button.colab-df-convert');\n",
              "        buttonEl.style.display =\n",
              "          google.colab.kernel.accessAllowed ? 'block' : 'none';\n",
              "\n",
              "        async function convertToInteractive(key) {\n",
              "          const element = document.querySelector('#df-ff89dd80-2583-4f95-afcb-9d8f0b9d9ef6');\n",
              "          const dataTable =\n",
              "            await google.colab.kernel.invokeFunction('convertToInteractive',\n",
              "                                                     [key], {});\n",
              "          if (!dataTable) return;\n",
              "\n",
              "          const docLinkHtml = 'Like what you see? Visit the ' +\n",
              "            '<a target=\"_blank\" href=https://colab.research.google.com/notebooks/data_table.ipynb>data table notebook</a>'\n",
              "            + ' to learn more about interactive tables.';\n",
              "          element.innerHTML = '';\n",
              "          dataTable['output_type'] = 'display_data';\n",
              "          await google.colab.output.renderOutput(dataTable, element);\n",
              "          const docLink = document.createElement('div');\n",
              "          docLink.innerHTML = docLinkHtml;\n",
              "          element.appendChild(docLink);\n",
              "        }\n",
              "      </script>\n",
              "    </div>\n",
              "  </div>\n",
              "  "
            ]
          },
          "metadata": {},
          "execution_count": 66
        }
      ],
      "source": [
        "df.describe()"
      ]
    },
    {
      "cell_type": "code",
      "execution_count": 67,
      "id": "65ed2aed",
      "metadata": {
        "colab": {
          "base_uri": "https://localhost:8080/"
        },
        "id": "65ed2aed",
        "outputId": "5822f193-f77a-4f36-9e0a-af3c01c5cd5c"
      },
      "outputs": [
        {
          "output_type": "execute_result",
          "data": {
            "text/plain": [
              "Unnamed: 0    0\n",
              "TV            0\n",
              "Radio         0\n",
              "Newspaper     0\n",
              "Sales         0\n",
              "dtype: int64"
            ]
          },
          "metadata": {},
          "execution_count": 67
        }
      ],
      "source": [
        "df.isnull().sum()"
      ]
    },
    {
      "cell_type": "code",
      "execution_count": 68,
      "id": "636ccbfd",
      "metadata": {
        "id": "636ccbfd"
      },
      "outputs": [],
      "source": [
        "import matplotlib.pyplot as plt\n",
        "import seaborn as sns"
      ]
    },
    {
      "cell_type": "code",
      "execution_count": 69,
      "id": "04da4dfd",
      "metadata": {
        "colab": {
          "base_uri": "https://localhost:8080/",
          "height": 296
        },
        "id": "04da4dfd",
        "outputId": "a8736a8f-ef62-423a-fa35-d289785f8e49"
      },
      "outputs": [
        {
          "output_type": "execute_result",
          "data": {
            "text/plain": [
              "<AxesSubplot:xlabel='Newspaper', ylabel='Density'>"
            ]
          },
          "metadata": {},
          "execution_count": 69
        },
        {
          "output_type": "display_data",
          "data": {
            "text/plain": [
              "<Figure size 432x288 with 1 Axes>"
            ],
            "image/png": "[encoded data removed]"
          },
          "metadata": {
            "needs_background": "light"
          }
        }
      ],
      "source": [
        "sns.distplot(df['Newspaper'])"
      ]
    },
    {
      "cell_type": "code",
      "execution_count": 70,
      "id": "282a8bb9",
      "metadata": {
        "id": "282a8bb9"
      },
      "outputs": [],
      "source": [
        "iqr = df.Newspaper.quantile(0.75) - df.Newspaper.quantile(0.25)"
      ]
    },
    {
      "cell_type": "code",
      "execution_count": 71,
      "id": "3faf0838",
      "metadata": {
        "colab": {
          "base_uri": "https://localhost:8080/"
        },
        "id": "3faf0838",
        "outputId": "7e48f008-8ce5-4c3b-872f-3897df7fa1a8"
      },
      "outputs": [
        {
          "output_type": "stream",
          "name": "stdout",
          "text": [
            "-35.775000000000006\n",
            "93.625\n"
          ]
        }
      ],
      "source": [
        "lower_bridge = df['Newspaper'].quantile(0.25) - (iqr*1.5)\n",
        "upper_bridge = df['Newspaper'].quantile(0.75) + (iqr*1.5)\n",
        "print(lower_bridge)\n",
        "print(upper_bridge)"
      ]
    },
    {
      "cell_type": "code",
      "execution_count": 72,
      "id": "0dd64e6c",
      "metadata": {
        "id": "0dd64e6c"
      },
      "outputs": [],
      "source": [
        "data = df.copy()"
      ]
    },
    {
      "cell_type": "code",
      "execution_count": 73,
      "id": "a51c4649",
      "metadata": {
        "id": "a51c4649"
      },
      "outputs": [],
      "source": [
        "data.loc[data['Newspaper']>=93, 'Newspaper']=93"
      ]
    },
    {
      "cell_type": "code",
      "execution_count": 74,
      "id": "7ac3246f",
      "metadata": {
        "colab": {
          "base_uri": "https://localhost:8080/",
          "height": 303
        },
        "id": "7ac3246f",
        "outputId": "1591d7b8-b48c-4ec2-920d-7bf83b530fe1"
      },
      "outputs": [
        {
          "output_type": "display_data",
          "data": {
            "text/plain": [
              "<Figure size 864x288 with 3 Axes>"
            ],
            "image/png": "[encoded data removed]"
          },
          "metadata": {
            "needs_background": "light"
          }
        }
      ],
      "source": [
        "sns.pairplot(data, x_vars=['TV', 'Newspaper', 'Radio'],\n",
        "            y_vars='Sales', height=4, aspect=1, kind='scatter')\n",
        "plt.show()"
      ]
    },
    {
      "cell_type": "code",
      "execution_count": 75,
      "id": "5ed93c37",
      "metadata": {
        "colab": {
          "base_uri": "https://localhost:8080/",
          "height": 274
        },
        "id": "5ed93c37",
        "outputId": "3266ff18-a28a-4e80-e779-e5889ef6deb5"
      },
      "outputs": [
        {
          "output_type": "display_data",
          "data": {
            "text/plain": [
              "<Figure size 432x288 with 2 Axes>"
            ],
            "image/png": "[encoded data removed]"
          },
          "metadata": {
            "needs_background": "light"
          }
        }
      ],
      "source": [
        "sns.heatmap(data.corr(), cmap=\"YlGnBu\", annot = True)\n",
        "plt.show()"
      ]
    },
    {
      "cell_type": "code",
      "execution_count": 76,
      "id": "aa2fa352",
      "metadata": {
        "id": "aa2fa352"
      },
      "outputs": [],
      "source": [
        "important_features = list(df.corr()['Sales'][(df.corr()['Sales']>+0.5)|(df.corr()['Sales']<-0.5)].index)"
      ]
    },
    {
      "cell_type": "code",
      "execution_count": 77,
      "id": "c669b1b4",
      "metadata": {
        "colab": {
          "base_uri": "https://localhost:8080/"
        },
        "id": "c669b1b4",
        "outputId": "978b9b01-d092-4ddd-c57b-744ee9aae624"
      },
      "outputs": [
        {
          "output_type": "stream",
          "name": "stdout",
          "text": [
            "['TV', 'Radio', 'Sales']\n"
          ]
        }
      ],
      "source": [
        "print(important_features)"
      ]
    },
    {
      "cell_type": "code",
      "execution_count": 78,
      "id": "a79acbd9",
      "metadata": {
        "id": "a79acbd9"
      },
      "outputs": [],
      "source": [
        "x = data['TV']\n",
        "y = data['Sales']"
      ]
    },
    {
      "cell_type": "code",
      "execution_count": 79,
      "id": "0257f499",
      "metadata": {
        "id": "0257f499"
      },
      "outputs": [],
      "source": [
        "x = x.values.reshape(-1,1)"
      ]
    },
    {
      "cell_type": "code",
      "execution_count": 80,
      "id": "a7ef9d72",
      "metadata": {
        "colab": {
          "base_uri": "https://localhost:8080/"
        },
        "id": "a7ef9d72",
        "outputId": "d0ba0490-838b-49be-d361-d092aa58dc8b"
      },
      "outputs": [
        {
          "output_type": "execute_result",
          "data": {
            "text/plain": [
              "array([[230.1],\n",
              "       [ 44.5],\n",
              "       [ 17.2],\n",
              "       [151.5],\n",
              "       [180.8],\n",
              "       [  8.7],\n",
              "       [ 57.5],\n",
              "       [120.2],\n",
              "       [  8.6],\n",
              "       [199.8],\n",
              "       [ 66.1],\n",
              "       [214.7],\n",
              "       [ 23.8],\n",
              "       [ 97.5],\n",
              "       [204.1],\n",
              "       [195.4],\n",
              "       [ 67.8],\n",
              "       [281.4],\n",
              "       [ 69.2],\n",
              "       [147.3],\n",
              "       [218.4],\n",
              "       [237.4],\n",
              "       [ 13.2],\n",
              "       [228.3],\n",
              "       [ 62.3],\n",
              "       [262.9],\n",
              "       [142.9],\n",
              "       [240.1],\n",
              "       [248.8],\n",
              "       [ 70.6],\n",
              "       [292.9],\n",
              "       [112.9],\n",
              "       [ 97.2],\n",
              "       [265.6],\n",
              "       [ 95.7],\n",
              "       [290.7],\n",
              "       [266.9],\n",
              "       [ 74.7],\n",
              "       [ 43.1],\n",
              "       [228. ],\n",
              "       [202.5],\n",
              "       [177. ],\n",
              "       [293.6],\n",
              "       [206.9],\n",
              "       [ 25.1],\n",
              "       [175.1],\n",
              "       [ 89.7],\n",
              "       [239.9],\n",
              "       [227.2],\n",
              "       [ 66.9],\n",
              "       [199.8],\n",
              "       [100.4],\n",
              "       [216.4],\n",
              "       [182.6],\n",
              "       [262.7],\n",
              "       [198.9],\n",
              "       [  7.3],\n",
              "       [136.2],\n",
              "       [210.8],\n",
              "       [210.7],\n",
              "       [ 53.5],\n",
              "       [261.3],\n",
              "       [239.3],\n",
              "       [102.7],\n",
              "       [131.1],\n",
              "       [ 69. ],\n",
              "       [ 31.5],\n",
              "       [139.3],\n",
              "       [237.4],\n",
              "       [216.8],\n",
              "       [199.1],\n",
              "       [109.8],\n",
              "       [ 26.8],\n",
              "       [129.4],\n",
              "       [213.4],\n",
              "       [ 16.9],\n",
              "       [ 27.5],\n",
              "       [120.5],\n",
              "       [  5.4],\n",
              "       [116. ],\n",
              "       [ 76.4],\n",
              "       [239.8],\n",
              "       [ 75.3],\n",
              "       [ 68.4],\n",
              "       [213.5],\n",
              "       [193.2],\n",
              "       [ 76.3],\n",
              "       [110.7],\n",
              "       [ 88.3],\n",
              "       [109.8],\n",
              "       [134.3],\n",
              "       [ 28.6],\n",
              "       [217.7],\n",
              "       [250.9],\n",
              "       [107.4],\n",
              "       [163.3],\n",
              "       [197.6],\n",
              "       [184.9],\n",
              "       [289.7],\n",
              "       [135.2],\n",
              "       [222.4],\n",
              "       [296.4],\n",
              "       [280.2],\n",
              "       [187.9],\n",
              "       [238.2],\n",
              "       [137.9],\n",
              "       [ 25. ],\n",
              "       [ 90.4],\n",
              "       [ 13.1],\n",
              "       [255.4],\n",
              "       [225.8],\n",
              "       [241.7],\n",
              "       [175.7],\n",
              "       [209.6],\n",
              "       [ 78.2],\n",
              "       [ 75.1],\n",
              "       [139.2],\n",
              "       [ 76.4],\n",
              "       [125.7],\n",
              "       [ 19.4],\n",
              "       [141.3],\n",
              "       [ 18.8],\n",
              "       [224. ],\n",
              "       [123.1],\n",
              "       [229.5],\n",
              "       [ 87.2],\n",
              "       [  7.8],\n",
              "       [ 80.2],\n",
              "       [220.3],\n",
              "       [ 59.6],\n",
              "       [  0.7],\n",
              "       [265.2],\n",
              "       [  8.4],\n",
              "       [219.8],\n",
              "       [ 36.9],\n",
              "       [ 48.3],\n",
              "       [ 25.6],\n",
              "       [273.7],\n",
              "       [ 43. ],\n",
              "       [184.9],\n",
              "       [ 73.4],\n",
              "       [193.7],\n",
              "       [220.5],\n",
              "       [104.6],\n",
              "       [ 96.2],\n",
              "       [140.3],\n",
              "       [240.1],\n",
              "       [243.2],\n",
              "       [ 38. ],\n",
              "       [ 44.7],\n",
              "       [280.7],\n",
              "       [121. ],\n",
              "       [197.6],\n",
              "       [171.3],\n",
              "       [187.8],\n",
              "       [  4.1],\n",
              "       [ 93.9],\n",
              "       [149.8],\n",
              "       [ 11.7],\n",
              "       [131.7],\n",
              "       [172.5],\n",
              "       [ 85.7],\n",
              "       [188.4],\n",
              "       [163.5],\n",
              "       [117.2],\n",
              "       [234.5],\n",
              "       [ 17.9],\n",
              "       [206.8],\n",
              "       [215.4],\n",
              "       [284.3],\n",
              "       [ 50. ],\n",
              "       [164.5],\n",
              "       [ 19.6],\n",
              "       [168.4],\n",
              "       [222.4],\n",
              "       [276.9],\n",
              "       [248.4],\n",
              "       [170.2],\n",
              "       [276.7],\n",
              "       [165.6],\n",
              "       [156.6],\n",
              "       [218.5],\n",
              "       [ 56.2],\n",
              "       [287.6],\n",
              "       [253.8],\n",
              "       [205. ],\n",
              "       [139.5],\n",
              "       [191.1],\n",
              "       [286. ],\n",
              "       [ 18.7],\n",
              "       [ 39.5],\n",
              "       [ 75.5],\n",
              "       [ 17.2],\n",
              "       [166.8],\n",
              "       [149.7],\n",
              "       [ 38.2],\n",
              "       [ 94.2],\n",
              "       [177. ],\n",
              "       [283.6],\n",
              "       [232.1]])"
            ]
          },
          "metadata": {},
          "execution_count": 80
        }
      ],
      "source": [
        "x"
      ]
    },
    {
      "cell_type": "code",
      "execution_count": 81,
      "id": "3e18df7c",
      "metadata": {
        "colab": {
          "base_uri": "https://localhost:8080/"
        },
        "id": "3e18df7c",
        "outputId": "0ed084b3-8091-41f4-abf8-26ec98a6cdaa"
      },
      "outputs": [
        {
          "output_type": "execute_result",
          "data": {
            "text/plain": [
              "0      22.1\n",
              "1      10.4\n",
              "2       9.3\n",
              "3      18.5\n",
              "4      12.9\n",
              "       ... \n",
              "195     7.6\n",
              "196     9.7\n",
              "197    12.8\n",
              "198    25.5\n",
              "199    13.4\n",
              "Name: Sales, Length: 200, dtype: float64"
            ]
          },
          "metadata": {},
          "execution_count": 81
        }
      ],
      "source": [
        "y"
      ]
    },
    {
      "cell_type": "code",
      "execution_count": 82,
      "id": "b742c148",
      "metadata": {
        "colab": {
          "base_uri": "https://localhost:8080/"
        },
        "id": "b742c148",
        "outputId": "dc7aa37a-a5dd-40e3-e91b-5397ccb7a895"
      },
      "outputs": [
        {
          "output_type": "stream",
          "name": "stdout",
          "text": [
            "(200, 1) (200,)\n"
          ]
        }
      ],
      "source": [
        "print(x.shape,y.shape)"
      ]
    },
    {
      "cell_type": "code",
      "execution_count": 83,
      "id": "b3232667",
      "metadata": {
        "id": "b3232667"
      },
      "outputs": [],
      "source": [
        "from sklearn.model_selection import train_test_split\n",
        "x_train,x_test,y_train,y_test=train_test_split(x,y, test_size=0.33)"
      ]
    },
    {
      "cell_type": "code",
      "execution_count": 84,
      "id": "e3a31683",
      "metadata": {
        "colab": {
          "base_uri": "https://localhost:8080/"
        },
        "id": "e3a31683",
        "outputId": "718ddee6-f007-40c8-914a-f4365fb298a0"
      },
      "outputs": [
        {
          "output_type": "stream",
          "name": "stdout",
          "text": [
            "(134, 1) (134,)\n"
          ]
        }
      ],
      "source": [
        "print(x_train.shape,y_train.shape)"
      ]
    },
    {
      "cell_type": "code",
      "execution_count": 85,
      "id": "bb2226d0",
      "metadata": {
        "id": "bb2226d0"
      },
      "outputs": [],
      "source": [
        "from sklearn.metrics import  mean_squared_error , r2_score\n",
        "from sklearn.model_selection import cross_val_score,GridSearchCV\n",
        "from sklearn.neighbors import KNeighborsRegressor\n",
        "from sklearn.svm import SVR\n",
        "from sklearn.tree import DecisionTreeRegressor\n",
        "from sklearn.ensemble import RandomForestRegressor"
      ]
    },
    {
      "cell_type": "code",
      "execution_count": 86,
      "id": "b5fee8d3",
      "metadata": {
        "colab": {
          "base_uri": "https://localhost:8080/"
        },
        "id": "b5fee8d3",
        "outputId": "e68e80d9-03e2-4b04-f78a-c4e06ea163c8"
      },
      "outputs": [
        {
          "output_type": "execute_result",
          "data": {
            "text/plain": [
              "KNeighborsRegressor()"
            ]
          },
          "metadata": {},
          "execution_count": 86
        }
      ],
      "source": [
        "knn = KNeighborsRegressor().fit(x_train, y_train)\n",
        "knn"
      ]
    },
    {
      "cell_type": "code",
      "execution_count": 87,
      "id": "2b4119cf",
      "metadata": {
        "id": "2b4119cf"
      },
      "outputs": [],
      "source": [
        "knn_train_pred = knn.predict(x_train)"
      ]
    },
    {
      "cell_type": "code",
      "execution_count": 88,
      "id": "7ccc2be9",
      "metadata": {
        "id": "7ccc2be9"
      },
      "outputs": [],
      "source": [
        "knn_test_pred = knn.predict(x_test)"
      ]
    },
    {
      "cell_type": "code",
      "execution_count": 89,
      "id": "5ac438c7",
      "metadata": {
        "colab": {
          "base_uri": "https://localhost:8080/"
        },
        "id": "5ac438c7",
        "outputId": "bd2259a2-279a-44e1-96bb-3f0bbd08f13f"
      },
      "outputs": [
        {
          "output_type": "stream",
          "name": "stdout",
          "text": [
            "[ 9.98 12.52 14.12 16.28  8.58 14.86 11.76  6.24 21.44 14.92 10.66 21.44\n",
            " 14.2  10.66  4.3  14.2  11.42  4.3  15.26  7.26 19.76 11.12 16.3  11.46\n",
            " 15.56 11.42 21.74 13.58 19.02  7.26 10.88 10.66 11.54 17.66 12.14 14.66\n",
            "  6.24 14.5   7.18  7.26 13.22  7.18  9.98  8.58 14.5  18.84 11.94 15.2\n",
            " 12.56 10.16 13.7  21.44  9.1   9.98 17.28 19.28 20.06 12.4   6.88 10.16\n",
            " 19.28 20.06  8.58 18.26  7.18 15.2  16.12 13.2   7.18 16.64  9.68 22.7\n",
            " 14.92 15.72 15.56 21.74 14.76 16.32 14.88  8.58 12.52  9.48 18.72 16.28\n",
            " 18.26 18.5  17.36 12.52 12.64 10.58 16.2   9.68 10.66 13.7  10.88  8.58\n",
            " 17.26 10.88 14.26 21.44 13.24 16.98 14.88 15.38 17.54 13.22 19.2  15.38\n",
            " 11.42 15.08 11.24 17.66 15.92 19.64 15.56 11.94 14.02 13.7  13.78  9.98\n",
            "  5.42 16.28 16.28  9.98 21.74 10.1   5.42 13.22 15.56 19.22 14.76  6.24\n",
            " 15.92 14.2 ] [11.54 18.26 17.54 14.88 16.58 13.2  20.82 10.84 21.28 21.28  9.98 12.\n",
            " 15.38 12.52 13.24 20.06  8.64 19.64 14.5   8.58 10.18 15.56 10.3  21.44\n",
            " 16.36 15.56 15.38  6.88 10.16 23.3  16.28 14.5  16.2  10.66 17.28 14.12\n",
            " 20.06 12.52  6.24 12.56 12.   10.58 15.2  15.56 14.76 10.16 11.42 16.58\n",
            " 10.1  20.06  5.42 16.36  7.26 21.74 10.66 19.02 15.92  9.68 14.86 16.32\n",
            " 10.3  18.5  16.28 11.94 21.74 15.26]\n"
          ]
        }
      ],
      "source": [
        "print(knn_train_pred, knn_test_pred)"
      ]
    },
    {
      "cell_type": "code",
      "execution_count": 90,
      "id": "85ffdc5e",
      "metadata": {
        "id": "85ffdc5e"
      },
      "outputs": [],
      "source": [
        "Results = pd.DataFrame(columns=['Model','Train R2','Test R2', 'Test RMSE','Variance'])"
      ]
    },
    {
      "cell_type": "code",
      "execution_count": 91,
      "id": "dadd5fa8",
      "metadata": {
        "colab": {
          "base_uri": "https://localhost:8080/"
        },
        "id": "dadd5fa8",
        "outputId": "87ec90b4-b5eb-4abb-b357-78850f1d88f8"
      },
      "outputs": [
        {
          "output_type": "stream",
          "name": "stdout",
          "text": [
            "R2: 0.4009800574331296\n",
            "RMSE: 4.158668201734927\n"
          ]
        }
      ],
      "source": [
        "r2 = r2_score(y_test, knn_test_pred)\n",
        "r2_train = r2_score(y_train, knn_train_pred)\n",
        "rmse = np.sqrt(mean_squared_error(y_test, knn_test_pred))\n",
        "variance = r2_train - r2\n",
        "Results = Results.append({'Model':'K-Nearest Neighbors','Train R2':r2_train, 'Test R2':r2, 'Test RMSE': rmse,'Variance':variance},ignore_index=True)\n",
        "print('R2:',r2)\n",
        "print('RMSE:',rmse)"
      ]
    },
    {
      "cell_type": "code",
      "execution_count": 92,
      "id": "658cb7a3",
      "metadata": {
        "colab": {
          "base_uri": "https://localhost:8080/",
          "height": 81
        },
        "id": "658cb7a3",
        "outputId": "e43413c9-29f0-4d45-f463-ea95eef2a1a2"
      },
      "outputs": [
        {
          "output_type": "execute_result",
          "data": {
            "text/plain": [
              "                 Model  Train R2  Test R2  Test RMSE  Variance\n",
              "0  K-Nearest Neighbors  0.706209  0.40098   4.158668  0.305229"
            ],
            "text/html": [
              "\n",
              "  <div id=\"df-227e2bde-2a6d-478a-8acb-0a5ea2172597\">\n",
              "    <div class=\"colab-df-container\">\n",
              "      <div>\n",
              "<style scoped>\n",
              "    .dataframe tbody tr th:only-of-type {\n",
              "        vertical-align: middle;\n",
              "    }\n",
              "\n",
              "    .dataframe tbody tr th {\n",
              "        vertical-align: top;\n",
              "    }\n",
              "\n",
              "    .dataframe thead th {\n",
              "        text-align: right;\n",
              "    }\n",
              "</style>\n",
              "<table border=\"1\" class=\"dataframe\">\n",
              "  <thead>\n",
              "    <tr style=\"text-align: right;\">\n",
              "      <th></th>\n",
              "      <th>Model</th>\n",
              "      <th>Train R2</th>\n",
              "      <th>Test R2</th>\n",
              "      <th>Test RMSE</th>\n",
              "      <th>Variance</th>\n",
              "    </tr>\n",
              "  </thead>\n",
              "  <tbody>\n",
              "    <tr>\n",
              "      <th>0</th>\n",
              "      <td>K-Nearest Neighbors</td>\n",
              "      <td>0.706209</td>\n",
              "      <td>0.40098</td>\n",
              "      <td>4.158668</td>\n",
              "      <td>0.305229</td>\n",
              "    </tr>\n",
              "  </tbody>\n",
              "</table>\n",
              "</div>\n",
              "      <button class=\"colab-df-convert\" onclick=\"convertToInteractive('df-227e2bde-2a6d-478a-8acb-0a5ea2172597')\"\n",
              "              title=\"Convert this dataframe to an interactive table.\"\n",
              "              style=\"display:none;\">\n",
              "        \n",
              "  <svg xmlns=\"http://www.w3.org/2000/svg\" height=\"24px\"viewBox=\"0 0 24 24\"\n",
              "       width=\"24px\">\n",
              "    <path d=\"M0 0h24v24H0V0z\" fill=\"none\"/>\n",
              "    <path d=\"M18.56 5.44l.94 2.06.94-2.06 2.06-.94-2.06-.94-.94-2.06-.94 2.06-2.06.94zm-11 1L8.5 8.5l.94-2.06 2.06-.94-2.06-.94L8.5 2.5l-.94 2.06-2.06.94zm10 10l.94 2.06.94-2.06 2.06-.94-2.06-.94-.94-2.06-.94 2.06-2.06.94z\"/><path d=\"M17.41 7.96l-1.37-1.37c-.4-.4-.92-.59-1.43-.59-.52 0-1.04.2-1.43.59L10.3 9.45l-7.72 7.72c-.78.78-.78 2.05 0 2.83L4 21.41c.39.39.9.59 1.41.59.51 0 1.02-.2 1.41-.59l7.78-7.78 2.81-2.81c.8-.78.8-2.07 0-2.86zM5.41 20L4 18.59l7.72-7.72 1.47 1.35L5.41 20z\"/>\n",
              "  </svg>\n",
              "      </button>\n",
              "      \n",
              "  <style>\n",
              "    .colab-df-container {\n",
              "      display:flex;\n",
              "      flex-wrap:wrap;\n",
              "      gap: 12px;\n",
              "    }\n",
              "\n",
              "    .colab-df-convert {\n",
              "      background-color: #E8F0FE;\n",
              "      border: none;\n",
              "      border-radius: 50%;\n",
              "      cursor: pointer;\n",
              "      display: none;\n",
              "      fill: #1967D2;\n",
              "      height: 32px;\n",
              "      padding: 0 0 0 0;\n",
              "      width: 32px;\n",
              "    }\n",
              "\n",
              "    .colab-df-convert:hover {\n",
              "      background-color: #E2EBFA;\n",
              "      box-shadow: 0px 1px 2px rgba(60, 64, 67, 0.3), 0px 1px 3px 1px rgba(60, 64, 67, 0.15);\n",
              "      fill: #174EA6;\n",
              "    }\n",
              "\n",
              "    [theme=dark] .colab-df-convert {\n",
              "      background-color: #3B4455;\n",
              "      fill: #D2E3FC;\n",
              "    }\n",
              "\n",
              "    [theme=dark] .colab-df-convert:hover {\n",
              "      background-color: #434B5C;\n",
              "      box-shadow: 0px 1px 3px 1px rgba(0, 0, 0, 0.15);\n",
              "      filter: drop-shadow(0px 1px 2px rgba(0, 0, 0, 0.3));\n",
              "      fill: #FFFFFF;\n",
              "    }\n",
              "  </style>\n",
              "\n",
              "      <script>\n",
              "        const buttonEl =\n",
              "          document.querySelector('#df-227e2bde-2a6d-478a-8acb-0a5ea2172597 button.colab-df-convert');\n",
              "        buttonEl.style.display =\n",
              "          google.colab.kernel.accessAllowed ? 'block' : 'none';\n",
              "\n",
              "        async function convertToInteractive(key) {\n",
              "          const element = document.querySelector('#df-227e2bde-2a6d-478a-8acb-0a5ea2172597');\n",
              "          const dataTable =\n",
              "            await google.colab.kernel.invokeFunction('convertToInteractive',\n",
              "                                                     [key], {});\n",
              "          if (!dataTable) return;\n",
              "\n",
              "          const docLinkHtml = 'Like what you see? Visit the ' +\n",
              "            '<a target=\"_blank\" href=https://colab.research.google.com/notebooks/data_table.ipynb>data table notebook</a>'\n",
              "            + ' to learn more about interactive tables.';\n",
              "          element.innerHTML = '';\n",
              "          dataTable['output_type'] = 'display_data';\n",
              "          await google.colab.output.renderOutput(dataTable, element);\n",
              "          const docLink = document.createElement('div');\n",
              "          docLink.innerHTML = docLinkHtml;\n",
              "          element.appendChild(docLink);\n",
              "        }\n",
              "      </script>\n",
              "    </div>\n",
              "  </div>\n",
              "  "
            ]
          },
          "metadata": {},
          "execution_count": 92
        }
      ],
      "source": [
        "Results.head()"
      ]
    },
    {
      "cell_type": "code",
      "execution_count": 93,
      "id": "23e868b1",
      "metadata": {
        "colab": {
          "base_uri": "https://localhost:8080/"
        },
        "id": "23e868b1",
        "outputId": "e932bf9b-1270-4175-f0a2-16c50d863677"
      },
      "outputs": [
        {
          "output_type": "execute_result",
          "data": {
            "text/plain": [
              "SVR()"
            ]
          },
          "metadata": {},
          "execution_count": 93
        }
      ],
      "source": [
        "svr = SVR().fit(x_train, y_train)\n",
        "svr"
      ]
    },
    {
      "cell_type": "code",
      "execution_count": 94,
      "id": "08a220c6",
      "metadata": {
        "id": "08a220c6"
      },
      "outputs": [],
      "source": [
        "svr_train_pred = svr.predict(x_train)\n",
        "svr_test_pred = svr.predict(x_test)"
      ]
    },
    {
      "cell_type": "code",
      "execution_count": 95,
      "id": "0def7450",
      "metadata": {
        "colab": {
          "base_uri": "https://localhost:8080/"
        },
        "id": "0def7450",
        "outputId": "e9f31553-b797-4527-e01d-24bdd4f98341"
      },
      "outputs": [
        {
          "output_type": "stream",
          "name": "stdout",
          "text": [
            "[11.75772891 13.30243867 12.11795718 15.65204213  8.45755718 17.4491812\n",
            " 10.85884826  7.82704718 18.62819636 14.75095294 10.56773672 18.64527499\n",
            " 13.76469097 10.6057151   7.73969621 13.76014699 11.47926646  7.69487523\n",
            " 17.62076678  8.06505352 17.04531032 10.67147991 17.37474994 10.80029184\n",
            " 17.98137392 11.42530636 18.51069264 12.77010671 18.4044861   8.0998265\n",
            " 10.92982464 10.45697764 11.01254824 17.22594848 13.10223885 14.08122754\n",
            "  7.90484024 14.5200343   8.16166368  8.07535779 12.5793409   8.12850707\n",
            " 11.76855584  8.40478704 14.57991785 18.59434799 10.89448716 17.55004416\n",
            " 12.46125214  8.94281919 12.23293859 18.63317039  8.67528147 11.64827198\n",
            " 16.60425137 16.96856616 18.53929972 11.32314127  7.94443301  9.07641442\n",
            " 17.00029171 18.57413308  8.48890645 18.2326105   8.15421532 13.65211093\n",
            " 17.78648986 13.39084454  8.132145   15.68274726  9.54034178 18.59743317\n",
            " 14.66016931 16.51281974 17.95470764 18.57157827 16.22337193 16.78409712\n",
            " 17.88977432  8.38317572 13.30661269  9.95699883 17.06321579 15.65716148\n",
            " 18.29847902 16.90919589 16.73247266 13.34854952 12.99936248  9.25948625\n",
            " 16.39113105  9.63059954 10.59624745 12.20156732 10.93422066  8.32807012\n",
            " 16.03827753 10.93422066 14.40606627 18.64800672 12.91019219 15.82054064\n",
            " 17.91738564 15.00022759 17.30737557 12.5974136  17.19557383 14.80666437\n",
            " 11.38240177 17.69739059 11.95355277 17.21729026 16.14862386 17.13864535\n",
            " 17.97142166 10.88560571 12.67391536 12.20156732 12.30978231 11.72149113\n",
            "  7.80925706 15.50332269 15.50332269 11.70328268 18.52284477  9.34929341\n",
            "  7.76171576 12.56852187 17.98137392 17.10328553 16.25810714  7.82933805\n",
            " 16.14862386 13.84244731] [11.09781715 18.24347141 17.30737557 17.88977432 15.92718104 13.45926234\n",
            " 18.64595797 11.87228151 18.65347229 18.65332483 11.63719679 13.17886921\n",
            " 14.86761893 13.24850072 12.97593833 18.54230645  8.53897194 17.13423883\n",
            " 14.41593177  8.37888076 10.02446034 17.97474545 10.26916568 18.64962803\n",
            " 15.09750185 18.03347177 15.03091733  7.94736387  9.00930656 18.61385609\n",
            " 15.38514207 14.46538957 16.46918629 10.53906569 16.59946311 12.02021105\n",
            " 18.57914528 13.31497144  7.82251001 12.41875396 13.13838202  9.26475666\n",
            " 17.53809987 18.0807779  16.25810714  8.9990351  11.50598646 15.95249016\n",
            "  9.33870729 18.51719881  7.7986267  15.09750185  8.07535779 18.55755608\n",
            " 10.49576271 18.36870234 16.21342998  9.81563487 17.50603375 16.78877187\n",
            " 10.13243551 16.91378329 15.29261341 10.87670541 18.45679288 17.5973743 ]\n"
          ]
        }
      ],
      "source": [
        "print(svr_train_pred, svr_test_pred)"
      ]
    },
    {
      "cell_type": "code",
      "execution_count": 96,
      "id": "492d5de5",
      "metadata": {
        "colab": {
          "base_uri": "https://localhost:8080/"
        },
        "id": "492d5de5",
        "outputId": "01b142e7-d143-43f8-cc8d-c817cf649d32"
      },
      "outputs": [
        {
          "output_type": "stream",
          "name": "stdout",
          "text": [
            "R2: 0.5516281999431041\n",
            "RMSE: 3.597930551638477\n"
          ]
        }
      ],
      "source": [
        "r2 = r2_score(y_test,svr_test_pred)\n",
        "r2_train = r2_score(y_train,svr_train_pred)\n",
        "rmse = np.sqrt(mean_squared_error(y_test,svr_test_pred))\n",
        "variance = r2_train - r2\n",
        "Results = Results.append({\"Model\":\"Support Vector Machine\",\"Train R2\":r2_train,\"Test R2\":r2,\"Test RMSE\":rmse,\"Variance\":variance},ignore_index=True)\n",
        "print(\"R2:\",r2)\n",
        "print(\"RMSE:\",rmse)"
      ]
    },
    {
      "cell_type": "code",
      "execution_count": 97,
      "id": "d3145325",
      "metadata": {
        "colab": {
          "base_uri": "https://localhost:8080/",
          "height": 112
        },
        "id": "d3145325",
        "outputId": "0ed87a3f-af5d-45cd-c4f0-d65ab77f86a9"
      },
      "outputs": [
        {
          "output_type": "execute_result",
          "data": {
            "text/plain": [
              "                    Model  Train R2   Test R2  Test RMSE  Variance\n",
              "0     K-Nearest Neighbors  0.706209  0.400980   4.158668  0.305229\n",
              "1  Support Vector Machine  0.617639  0.551628   3.597931  0.066010"
            ],
            "text/html": [
              "\n",
              "  <div id=\"df-3afabfdf-0b8d-42b4-a4e1-c603cc087721\">\n",
              "    <div class=\"colab-df-container\">\n",
              "      <div>\n",
              "<style scoped>\n",
              "    .dataframe tbody tr th:only-of-type {\n",
              "        vertical-align: middle;\n",
              "    }\n",
              "\n",
              "    .dataframe tbody tr th {\n",
              "        vertical-align: top;\n",
              "    }\n",
              "\n",
              "    .dataframe thead th {\n",
              "        text-align: right;\n",
              "    }\n",
              "</style>\n",
              "<table border=\"1\" class=\"dataframe\">\n",
              "  <thead>\n",
              "    <tr style=\"text-align: right;\">\n",
              "      <th></th>\n",
              "      <th>Model</th>\n",
              "      <th>Train R2</th>\n",
              "      <th>Test R2</th>\n",
              "      <th>Test RMSE</th>\n",
              "      <th>Variance</th>\n",
              "    </tr>\n",
              "  </thead>\n",
              "  <tbody>\n",
              "    <tr>\n",
              "      <th>0</th>\n",
              "      <td>K-Nearest Neighbors</td>\n",
              "      <td>0.706209</td>\n",
              "      <td>0.400980</td>\n",
              "      <td>4.158668</td>\n",
              "      <td>0.305229</td>\n",
              "    </tr>\n",
              "    <tr>\n",
              "      <th>1</th>\n",
              "      <td>Support Vector Machine</td>\n",
              "      <td>0.617639</td>\n",
              "      <td>0.551628</td>\n",
              "      <td>3.597931</td>\n",
              "      <td>0.066010</td>\n",
              "    </tr>\n",
              "  </tbody>\n",
              "</table>\n",
              "</div>\n",
              "      <button class=\"colab-df-convert\" onclick=\"convertToInteractive('df-3afabfdf-0b8d-42b4-a4e1-c603cc087721')\"\n",
              "              title=\"Convert this dataframe to an interactive table.\"\n",
              "              style=\"display:none;\">\n",
              "        \n",
              "  <svg xmlns=\"http://www.w3.org/2000/svg\" height=\"24px\"viewBox=\"0 0 24 24\"\n",
              "       width=\"24px\">\n",
              "    <path d=\"M0 0h24v24H0V0z\" fill=\"none\"/>\n",
              "    <path d=\"M18.56 5.44l.94 2.06.94-2.06 2.06-.94-2.06-.94-.94-2.06-.94 2.06-2.06.94zm-11 1L8.5 8.5l.94-2.06 2.06-.94-2.06-.94L8.5 2.5l-.94 2.06-2.06.94zm10 10l.94 2.06.94-2.06 2.06-.94-2.06-.94-.94-2.06-.94 2.06-2.06.94z\"/><path d=\"M17.41 7.96l-1.37-1.37c-.4-.4-.92-.59-1.43-.59-.52 0-1.04.2-1.43.59L10.3 9.45l-7.72 7.72c-.78.78-.78 2.05 0 2.83L4 21.41c.39.39.9.59 1.41.59.51 0 1.02-.2 1.41-.59l7.78-7.78 2.81-2.81c.8-.78.8-2.07 0-2.86zM5.41 20L4 18.59l7.72-7.72 1.47 1.35L5.41 20z\"/>\n",
              "  </svg>\n",
              "      </button>\n",
              "      \n",
              "  <style>\n",
              "    .colab-df-container {\n",
              "      display:flex;\n",
              "      flex-wrap:wrap;\n",
              "      gap: 12px;\n",
              "    }\n",
              "\n",
              "    .colab-df-convert {\n",
              "      background-color: #E8F0FE;\n",
              "      border: none;\n",
              "      border-radius: 50%;\n",
              "      cursor: pointer;\n",
              "      display: none;\n",
              "      fill: #1967D2;\n",
              "      height: 32px;\n",
              "      padding: 0 0 0 0;\n",
              "      width: 32px;\n",
              "    }\n",
              "\n",
              "    .colab-df-convert:hover {\n",
              "      background-color: #E2EBFA;\n",
              "      box-shadow: 0px 1px 2px rgba(60, 64, 67, 0.3), 0px 1px 3px 1px rgba(60, 64, 67, 0.15);\n",
              "      fill: #174EA6;\n",
              "    }\n",
              "\n",
              "    [theme=dark] .colab-df-convert {\n",
              "      background-color: #3B4455;\n",
              "      fill: #D2E3FC;\n",
              "    }\n",
              "\n",
              "    [theme=dark] .colab-df-convert:hover {\n",
              "      background-color: #434B5C;\n",
              "      box-shadow: 0px 1px 3px 1px rgba(0, 0, 0, 0.15);\n",
              "      filter: drop-shadow(0px 1px 2px rgba(0, 0, 0, 0.3));\n",
              "      fill: #FFFFFF;\n",
              "    }\n",
              "  </style>\n",
              "\n",
              "      <script>\n",
              "        const buttonEl =\n",
              "          document.querySelector('#df-3afabfdf-0b8d-42b4-a4e1-c603cc087721 button.colab-df-convert');\n",
              "        buttonEl.style.display =\n",
              "          google.colab.kernel.accessAllowed ? 'block' : 'none';\n",
              "\n",
              "        async function convertToInteractive(key) {\n",
              "          const element = document.querySelector('#df-3afabfdf-0b8d-42b4-a4e1-c603cc087721');\n",
              "          const dataTable =\n",
              "            await google.colab.kernel.invokeFunction('convertToInteractive',\n",
              "                                                     [key], {});\n",
              "          if (!dataTable) return;\n",
              "\n",
              "          const docLinkHtml = 'Like what you see? Visit the ' +\n",
              "            '<a target=\"_blank\" href=https://colab.research.google.com/notebooks/data_table.ipynb>data table notebook</a>'\n",
              "            + ' to learn more about interactive tables.';\n",
              "          element.innerHTML = '';\n",
              "          dataTable['output_type'] = 'display_data';\n",
              "          await google.colab.output.renderOutput(dataTable, element);\n",
              "          const docLink = document.createElement('div');\n",
              "          docLink.innerHTML = docLinkHtml;\n",
              "          element.appendChild(docLink);\n",
              "        }\n",
              "      </script>\n",
              "    </div>\n",
              "  </div>\n",
              "  "
            ]
          },
          "metadata": {},
          "execution_count": 97
        }
      ],
      "source": [
        "Results.head()"
      ]
    },
    {
      "cell_type": "code",
      "execution_count": 98,
      "id": "6be339dd",
      "metadata": {
        "id": "6be339dd"
      },
      "outputs": [],
      "source": [
        "import statsmodels.api as sm"
      ]
    },
    {
      "cell_type": "code",
      "execution_count": 99,
      "id": "004af880",
      "metadata": {
        "id": "004af880"
      },
      "outputs": [],
      "source": [
        "x_train_constant = sm.add_constant(x_train)"
      ]
    },
    {
      "cell_type": "code",
      "execution_count": 100,
      "id": "fd212e53",
      "metadata": {
        "id": "fd212e53"
      },
      "outputs": [],
      "source": [
        "model = sm.OLS(y_train, x_train_constant).fit()"
      ]
    },
    {
      "cell_type": "code",
      "execution_count": 101,
      "id": "ba25013c",
      "metadata": {
        "colab": {
          "base_uri": "https://localhost:8080/"
        },
        "id": "ba25013c",
        "outputId": "ed0bc5b8-887c-4dbb-dde2-5c820fbb552d"
      },
      "outputs": [
        {
          "output_type": "execute_result",
          "data": {
            "text/plain": [
              "const    6.867032\n",
              "x1       0.048090\n",
              "dtype: float64"
            ]
          },
          "metadata": {},
          "execution_count": 101
        }
      ],
      "source": [
        "model.params"
      ]
    },
    {
      "cell_type": "code",
      "execution_count": 102,
      "id": "a0457282",
      "metadata": {
        "colab": {
          "base_uri": "https://localhost:8080/"
        },
        "id": "a0457282",
        "outputId": "3dcb70f1-c2e7-46b6-949c-40df9245a3b8"
      },
      "outputs": [
        {
          "output_type": "stream",
          "name": "stdout",
          "text": [
            "                            OLS Regression Results                            \n",
            "==============================================================================\n",
            "Dep. Variable:                  Sales   R-squared:                       0.642\n",
            "Model:                            OLS   Adj. R-squared:                  0.640\n",
            "Method:                 Least Squares   F-statistic:                     237.1\n",
            "Date:                Sun, 26 Feb 2023   Prob (F-statistic):           2.90e-31\n",
            "Time:                        17:03:06   Log-Likelihood:                -339.02\n",
            "No. Observations:                 134   AIC:                             682.0\n",
            "Df Residuals:                     132   BIC:                             687.8\n",
            "Df Model:                           1                                         \n",
            "Covariance Type:            nonrobust                                         \n",
            "==============================================================================\n",
            "                 coef    std err          t      P>|t|      [0.025      0.975]\n",
            "------------------------------------------------------------------------------\n",
            "const          6.8670      0.514     13.356      0.000       5.850       7.884\n",
            "x1             0.0481      0.003     15.397      0.000       0.042       0.054\n",
            "==============================================================================\n",
            "Omnibus:                        0.616   Durbin-Watson:                   2.073\n",
            "Prob(Omnibus):                  0.735   Jarque-Bera (JB):                0.745\n",
            "Skew:                          -0.086   Prob(JB):                        0.689\n",
            "Kurtosis:                       2.678   Cond. No.                         320.\n",
            "==============================================================================\n",
            "\n",
            "Notes:\n",
            "[1] Standard Errors assume that the covariance matrix of the errors is correctly specified.\n"
          ]
        }
      ],
      "source": [
        "print(model.summary())"
      ]
    },
    {
      "cell_type": "code",
      "execution_count": 103,
      "id": "a9c17bc9",
      "metadata": {
        "colab": {
          "base_uri": "https://localhost:8080/",
          "height": 265
        },
        "id": "a9c17bc9",
        "outputId": "0a0f5fde-79e4-422b-f585-50e730f781bd"
      },
      "outputs": [
        {
          "output_type": "display_data",
          "data": {
            "text/plain": [
              "<Figure size 432x288 with 1 Axes>"
            ],
            "image/png": "[encoded data removed]"
          },
          "metadata": {
            "needs_background": "light"
          }
        }
      ],
      "source": [
        "plt.scatter(x_train, y_train)\n",
        "plt.plot(x_train, 6.9955 + 0.0541 * x_train, 'y')\n",
        "plt.show()"
      ]
    },
    {
      "cell_type": "code",
      "execution_count": 104,
      "id": "c23015bd",
      "metadata": {
        "colab": {
          "base_uri": "https://localhost:8080/"
        },
        "id": "c23015bd",
        "outputId": "ebf621e0-5aa3-4872-ec59-8ff6f93359aa"
      },
      "outputs": [
        {
          "output_type": "execute_result",
          "data": {
            "text/plain": [
              "32    -1.941420\n",
              "116   -1.361217\n",
              "94    -0.531942\n",
              "154   -0.298412\n",
              "72     0.644145\n",
              "         ...   \n",
              "92     2.063685\n",
              "9     -5.875496\n",
              "5     -0.085419\n",
              "96    -4.669698\n",
              "3      4.347270\n",
              "Name: Sales, Length: 134, dtype: float64"
            ]
          },
          "metadata": {},
          "execution_count": 104
        }
      ],
      "source": [
        "y_train_pred = model.predict(x_train_constant)\n",
        "res = (y_train - y_train_pred)\n",
        "res"
      ]
    },
    {
      "cell_type": "code",
      "execution_count": 105,
      "id": "9e41782c",
      "metadata": {
        "colab": {
          "base_uri": "https://localhost:8080/"
        },
        "id": "9e41782c",
        "outputId": "acf51c70-58e4-42c0-ba93-a292ed69da8a"
      },
      "outputs": [
        {
          "output_type": "execute_result",
          "data": {
            "text/plain": [
              "array([11.54142016, 13.56121747, 12.03194237, 15.8984115 ,  8.15585515,\n",
              "       17.72584716, 10.45938589,  7.28060965, 20.53913627, 15.05202025,\n",
              "       10.1564163 , 20.39967407, 14.07097584, 10.19488863,  7.0642028 ,\n",
              "       14.0661668 , 11.18074207,  6.9006954 , 17.93263593,  7.67976007,\n",
              "       17.27379729, 10.2622152 , 17.63928442, 10.39686836, 18.41354005,\n",
              "       11.1134155 , 20.9863771 , 12.91199691, 19.14932336,  7.72785048,\n",
              "       10.53633055, 10.04580835, 10.62770233, 17.47096798, 13.32557445,\n",
              "       14.39799064,  7.42968993, 14.83080435,  7.80960418,  7.6941872 ,\n",
              "       12.66192677,  7.76632281, 11.55584729,  8.09814666, 14.88851285,\n",
              "       19.7023631 , 10.49785822, 17.84607319, 12.50322841,  8.64156831,\n",
              "       12.19064073, 20.50547298,  8.38188009, 11.39714893, 16.81693837,\n",
              "       17.19204359, 19.50038337, 10.98838042,  7.49701651,  8.76660339,\n",
              "       17.22570688, 19.6206094 ,  8.18951844, 18.81269047,  7.7999861 ,\n",
              "       13.95074981, 18.14423375, 13.66220734,  7.77113186, 15.92726575,\n",
              "        9.18979901, 20.69783463, 14.96545751, 16.72556659, 18.37506772,\n",
              "       20.79882449, 16.44183316, 16.99968194, 18.28369594,  8.07410145,\n",
              "       13.56602651,  9.56971327, 17.29303345, 15.90322054, 18.9329165 ,\n",
              "       17.12952605, 16.94678248, 13.61411693, 13.20053938,  8.93491983,\n",
              "       16.60534056,  9.27155271, 10.18527054, 12.14735936, 10.54113959,\n",
              "        8.01158392, 16.26389863, 10.54113959, 14.7201964 , 20.36601079,\n",
              "       13.08993143, 16.05710986, 18.32216827, 15.28766327, 17.56233976,\n",
              "       12.68597197, 17.43730469, 15.1049197 , 11.06051604, 18.02881676,\n",
              "       11.80591743, 17.46134989, 16.36969754, 17.37478715, 18.39911293,\n",
              "       10.48824014, 12.78696184, 12.14735936, 12.29643963, 11.49332975,\n",
              "        7.24213732, 15.75894931, 15.75894931, 11.46928455, 20.95271381,\n",
              "        9.01667353,  7.12672033, 12.64749964, 18.41354005, 17.33631482,\n",
              "       16.47549645,  7.28541869, 16.36969754, 14.15272954])"
            ]
          },
          "metadata": {},
          "execution_count": 105
        }
      ],
      "source": [
        "y_train_pred"
      ]
    },
    {
      "cell_type": "code",
      "execution_count": 106,
      "id": "9986f7a4",
      "metadata": {
        "colab": {
          "base_uri": "https://localhost:8080/",
          "height": 314
        },
        "id": "9986f7a4",
        "outputId": "d6ddc550-2a73-4671-eda9-2917f7105b61"
      },
      "outputs": [
        {
          "output_type": "display_data",
          "data": {
            "text/plain": [
              "<Figure size 432x288 with 1 Axes>"
            ],
            "image/png": "[encoded data removed]"
          },
          "metadata": {
            "needs_background": "light"
          }
        }
      ],
      "source": [
        "fig = plt.figure()\n",
        "sns.distplot(res, bins = 15)\n",
        "fig.suptitle('Error Terms', fontsize = 15)\n",
        "plt.xlabel('Difference in y_train and y_train_pred', fontsize = 15)\n",
        "plt.show()"
      ]
    },
    {
      "cell_type": "code",
      "execution_count": 107,
      "id": "c3cd89e2",
      "metadata": {
        "colab": {
          "base_uri": "https://localhost:8080/",
          "height": 265
        },
        "id": "c3cd89e2",
        "outputId": "907a92d1-7008-4d8a-d06b-56e28c3c9fe2"
      },
      "outputs": [
        {
          "output_type": "display_data",
          "data": {
            "text/plain": [
              "<Figure size 432x288 with 1 Axes>"
            ],
            "image/png": "[encoded data removed]"
          },
          "metadata": {
            "needs_background": "light"
          }
        }
      ],
      "source": [
        "plt.scatter(x_train, res)\n",
        "plt.show()"
      ]
    },
    {
      "cell_type": "code",
      "execution_count": 108,
      "id": "054ecba8",
      "metadata": {
        "id": "054ecba8"
      },
      "outputs": [],
      "source": [
        "x_test_constant = sm.add_constant(x_test)\n",
        "y_pred = model.predict(x_test_constant)"
      ]
    },
    {
      "cell_type": "code",
      "execution_count": 109,
      "id": "ac245b66",
      "metadata": {
        "colab": {
          "base_uri": "https://localhost:8080/"
        },
        "id": "ac245b66",
        "outputId": "57c973c4-454f-4bde-876b-13ccd17e49bc"
      },
      "outputs": [
        {
          "output_type": "execute_result",
          "data": {
            "text/plain": [
              "array([10.72388316, 18.83192664, 17.56233976, 18.28369594, 16.15809973,\n",
              "       13.739152  , 20.0293779 , 11.69530948, 20.18326722, 20.17364914,\n",
              "       11.3827218 , 13.41694624, 15.1626282 , 13.49869994, 13.17168513,\n",
              "       19.51000145,  8.24241789, 17.36997811, 14.72981449,  8.06929241,\n",
              "        9.6322308 , 18.40392197,  9.86306478, 20.34196558, 15.37903505,\n",
              "       18.49048471, 15.31651751,  7.50182555,  8.70408585, 20.62088997,\n",
              "       15.64834136, 14.7779049 , 16.68228522, 10.12756205, 16.81212933,\n",
              "       11.89728921, 19.63984556, 13.5756446 ,  7.27099157, 12.44551991,\n",
              "       13.36885582,  8.93972887, 17.83164607, 18.56262033, 16.47549645,\n",
              "        8.69446777, 11.21440536, 16.18214493,  9.00705545, 19.43305679,\n",
              "        7.21809212, 15.37903505,  7.6941872 , 20.84691491, 10.08428068,\n",
              "       19.0723787 , 16.43221508,  9.43986916, 17.79317374, 17.00449098,\n",
              "        9.73322067, 17.13433509, 15.56177862, 10.47862206, 21.12103026,\n",
              "       17.90378169])"
            ]
          },
          "metadata": {},
          "execution_count": 109
        }
      ],
      "source": [
        "y_pred"
      ]
    },
    {
      "cell_type": "code",
      "execution_count": 110,
      "id": "538fb236",
      "metadata": {
        "id": "538fb236"
      },
      "outputs": [],
      "source": [
        "from sklearn.metrics import mean_squared_error\n",
        "from sklearn.metrics import r2_score"
      ]
    },
    {
      "cell_type": "code",
      "execution_count": 111,
      "id": "3626e6f6",
      "metadata": {
        "colab": {
          "base_uri": "https://localhost:8080/"
        },
        "id": "3626e6f6",
        "outputId": "d97342c1-ab3b-4108-bcfe-f1fcd60993ba"
      },
      "outputs": [
        {
          "output_type": "execute_result",
          "data": {
            "text/plain": [
              "3.626304624236569"
            ]
          },
          "metadata": {},
          "execution_count": 111
        }
      ],
      "source": [
        "np.sqrt(mean_squared_error(y_test, y_pred))"
      ]
    },
    {
      "cell_type": "code",
      "execution_count": 112,
      "id": "3ca58416",
      "metadata": {
        "colab": {
          "base_uri": "https://localhost:8080/"
        },
        "id": "3ca58416",
        "outputId": "d5db0a74-0b93-4f83-dfb7-53015e96640a"
      },
      "outputs": [
        {
          "output_type": "execute_result",
          "data": {
            "text/plain": [
              "0.5445283970994761"
            ]
          },
          "metadata": {},
          "execution_count": 112
        }
      ],
      "source": [
        "r2 = r2_score(y_test, y_pred)\n",
        "r2"
      ]
    },
    {
      "cell_type": "code",
      "execution_count": 113,
      "id": "f027c65c",
      "metadata": {
        "colab": {
          "base_uri": "https://localhost:8080/",
          "height": 265
        },
        "id": "f027c65c",
        "outputId": "5a4c325c-5477-4683-d09f-8e6bb79e40ef"
      },
      "outputs": [
        {
          "output_type": "display_data",
          "data": {
            "text/plain": [
              "<Figure size 432x288 with 1 Axes>"
            ],
            "image/png": "[encoded data removed]"
          },
          "metadata": {
            "needs_background": "light"
          }
        }
      ],
      "source": [
        "plt.scatter(x_test, y_test)\n",
        "plt.plot(x_test, 6.9955 + 0.0541 * x_test, 'y')\n",
        "plt.show()"
      ]
    },
    {
      "cell_type": "code",
      "execution_count": 113,
      "id": "e08792d0",
      "metadata": {
        "id": "e08792d0"
      },
      "outputs": [],
      "source": []
    }
  ],
  "metadata": {
    "kernelspec": {
      "display_name": "Python 3 (ipykernel)",
      "language": "python",
      "name": "python3"
    },
    "language_info": {
      "codemirror_mode": {
        "name": "ipython",
        "version": 3
      },
      "file_extension": ".py",
      "mimetype": "text/x-python",
      "name": "python",
      "nbconvert_exporter": "python",
      "pygments_lexer": "ipython3",
      "version": "3.9.7"
    },
    "colab": {
      "provenance": []
    }
  },
  "nbformat": 4,
  "nbformat_minor": 5
}